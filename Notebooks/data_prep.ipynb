{
 "cells": [
  {
   "cell_type": "code",
   "execution_count": 1,
   "metadata": {},
   "outputs": [],
   "source": [
    "import numpy as np\n",
    "import matplotlib.pyplot as plt\n",
    "import cv2\n",
    "import json\n",
    "import os\n",
    "import glob\n",
    "from collections import Counter"
   ]
  },
  {
   "cell_type": "code",
   "execution_count": 2,
   "metadata": {},
   "outputs": [],
   "source": [
    "annotations = json.load(open(os.path.join('trainval','annotations','bbox-annotations.json'),'r'))\n",
    "w = []\n",
    "h = []\n",
    "for img in annotations['images']:\n",
    "    w.append(img['width'])\n",
    "    h.append(img['height'])\n",
    "w = np.array(w)\n",
    "h = np.array(h)"
   ]
  },
  {
   "cell_type": "code",
   "execution_count": 4,
   "metadata": {},
   "outputs": [],
   "source": [
    "lo_w = np.median(w)-3*np.std(w)\n",
    "hi_w = np.median(w)+3*np.std(w)\n",
    "\n",
    "lo_h = np.median(h)-3*np.std(h)\n",
    "hi_h = np.median(h)+3*np.std(h)"
   ]
  },
  {
   "cell_type": "code",
   "execution_count": 5,
   "metadata": {},
   "outputs": [
    {
     "name": "stdout",
     "output_type": "stream",
     "text": [
      "18 [28, 86, 364, 721, 733, 863, 896, 930, 939, 1241, 1424, 1557, 1667, 1692, 1758, 1996, 2110, 2129]\n",
      "['image_000000029.jpg', 'image_000000087.jpg', 'image_000000365.jpg', 'image_000000722.jpg', 'image_000000734.jpg', 'image_000000864.jpg', 'image_000000897.jpg', 'image_000000931.jpg', 'image_000000940.jpg', 'image_000001242.jpg', 'image_000001425.jpg', 'image_000001558.jpg', 'image_000001668.jpg', 'image_000001693.jpg', 'image_000001759.jpg', 'image_000001997.jpg', 'image_000002111.jpg', 'image_000002130.jpg']\n"
     ]
    }
   ],
   "source": [
    "outlier_image_ids = []\n",
    "outlier_image_names = []\n",
    "for img in annotations['images']:\n",
    "    w = img['width']\n",
    "    h = img['height']\n",
    "    if not ((lo_w<=w<=hi_w) and (lo_h<=h<=hi_h)):\n",
    "        outlier_image_ids.append(img['id'])\n",
    "        outlier_image_names.append(img['file_name'])\n",
    "print(len(outlier_image_ids), outlier_image_ids)\n",
    "print(outlier_image_names)"
   ]
  },
  {
   "cell_type": "code",
   "execution_count": 7,
   "metadata": {},
   "outputs": [],
   "source": [
    "# Remove these images from the training set.\n",
    "for img in outlier_image_names:\n",
    "    img_path = os.path.join('trainval','images',img)\n",
    "    os.remove(img_path)"
   ]
  },
  {
   "cell_type": "code",
   "execution_count": 8,
   "metadata": {},
   "outputs": [],
   "source": [
    "outlier_image_ids = set(outlier_image_ids)\n",
    "\n",
    "for i, img in enumerate(annotations['images']):\n",
    "    if img['id'] in outlier_image_ids:\n",
    "        annotations['images'].pop(i)\n",
    "\n",
    "for i, annot in enumerate(annotations['annotations']):\n",
    "    if annot['image_id'] in outlier_image_ids:\n",
    "        annotations['annotations'].pop(i)"
   ]
  },
  {
   "cell_type": "code",
   "execution_count": 9,
   "metadata": {},
   "outputs": [],
   "source": [
    "json.dump(annotations, open(os.path.join('trainval','annotations','annotations-cleaned.json'),'w'))"
   ]
  },
  {
   "cell_type": "code",
   "execution_count": null,
   "metadata": {},
   "outputs": [],
   "source": []
  }
 ],
 "metadata": {
  "interpreter": {
   "hash": "b3ba2566441a7c06988d0923437866b63cedc61552a5af99d1f4fb67d367b25f"
  },
  "kernelspec": {
   "display_name": "Python 3.8.8 64-bit ('base': conda)",
   "language": "python",
   "name": "python3"
  },
  "language_info": {
   "codemirror_mode": {
    "name": "ipython",
    "version": 3
   },
   "file_extension": ".py",
   "mimetype": "text/x-python",
   "name": "python",
   "nbconvert_exporter": "python",
   "pygments_lexer": "ipython3",
   "version": "3.8.8"
  },
  "orig_nbformat": 4
 },
 "nbformat": 4,
 "nbformat_minor": 2
}
